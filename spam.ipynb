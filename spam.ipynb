{
  "nbformat": 4,
  "nbformat_minor": 0,
  "metadata": {
    "colab": {
      "provenance": [],
      "mount_file_id": "15h9pN8h54NhsmZSI_QT6Re54tUDSsAxK",
      "authorship_tag": "ABX9TyPzm/t1htmSGq602xgJ2Voj",
      "include_colab_link": true
    },
    "kernelspec": {
      "name": "python3",
      "display_name": "Python 3"
    },
    "language_info": {
      "name": "python"
    }
  },
  "cells": [
    {
      "cell_type": "markdown",
      "metadata": {
        "id": "view-in-github",
        "colab_type": "text"
      },
      "source": [
        "<a href=\"https://colab.research.google.com/github/HasikaR00/CBT-CIP/blob/main/spam.ipynb\" target=\"_parent\"><img src=\"https://colab.research.google.com/assets/colab-badge.svg\" alt=\"Open In Colab\"/></a>"
      ]
    },
    {
      "cell_type": "code",
      "execution_count": 1,
      "metadata": {
        "colab": {
          "base_uri": "https://localhost:8080/"
        },
        "id": "ex19s8KdBs6A",
        "outputId": "9bce9c20-bd7e-473e-de10-8384ef432e95"
      },
      "outputs": [
        {
          "output_type": "stream",
          "name": "stdout",
          "text": [
            "Accuracy: 0.98\n",
            "Classification Report:\n",
            "              precision    recall  f1-score   support\n",
            "\n",
            "         ham       0.98      1.00      0.99      1448\n",
            "        spam       0.99      0.88      0.93       224\n",
            "\n",
            "    accuracy                           0.98      1672\n",
            "   macro avg       0.99      0.94      0.96      1672\n",
            "weighted avg       0.98      0.98      0.98      1672\n",
            "\n",
            "Confusion Matrix:\n",
            "[[1447    1]\n",
            " [  27  197]]\n",
            "Prediction for input mail: 0\n"
          ]
        }
      ],
      "source": [
        "# Import necessary libraries\n",
        "import pandas as pd\n",
        "from sklearn.feature_extraction.text import TfidfVectorizer\n",
        "from sklearn.model_selection import train_test_split\n",
        "from sklearn.ensemble import RandomForestClassifier\n",
        "from sklearn.metrics import accuracy_score, classification_report, confusion_matrix\n",
        "\n",
        "# Specify the path to your CSV file\n",
        "data = pd.read_csv('/content/mail_data - mail_data.csv')  # Update the path\n",
        "\n",
        "# Assuming your CSV has two columns: 'text' for email content and 'label' for spam/ham (0 for spam, 1 for ham)\n",
        "emails = data['Message'].tolist()\n",
        "labels = data['Category'].tolist()\n",
        "\n",
        "# Step 1: Split the data into training and testing sets\n",
        "X_train, X_test, Y_train, Y_test = train_test_split(emails, labels, test_size=0.3, random_state=42)\n",
        "\n",
        "# Step 2: Convert text data into feature vectors using TfidfVectorizer\n",
        "vectorizer = TfidfVectorizer(min_df=5, stop_words='english', lowercase=True, ngram_range=(1, 2))\n",
        "X_train_features = vectorizer.fit_transform(X_train)\n",
        "X_test_features = vectorizer.transform(X_test)\n",
        "\n",
        "# Step 3: Train a RandomForestClassifier model\n",
        "model = RandomForestClassifier(n_estimators=100, random_state=42)\n",
        "model.fit(X_train_features, Y_train)\n",
        "\n",
        "# Step 4: Make predictions on the test set\n",
        "predictions = model.predict(X_test_features)\n",
        "\n",
        "# Step 5: Evaluate the model\n",
        "accuracy = accuracy_score(Y_test, predictions)\n",
        "print(f\"Accuracy: {accuracy:.2f}\")\n",
        "print(\"Classification Report:\")\n",
        "print(classification_report(Y_test, predictions))\n",
        "print(\"Confusion Matrix:\")\n",
        "print(confusion_matrix(Y_test, predictions))\n",
        "\n",
        "# Step 6: Example prediction\n",
        "input_mail = [\",GENT! We are trying to contact you. Last weekends draw shows that you won a £1000 prize GUARANTEED. Call 09064012160. Claim Code K52. Valid 12hrs only. 150ppm\"]\n",
        "input_data_features = vectorizer.transform(input_mail)\n",
        "prediction_proba = model.predict_proba(input_data_features)\n",
        "\n",
        "# Set a spam threshold\n",
        "spam_threshold = 0.5  # Adjust threshold as needed\n",
        "final_prediction = (prediction_proba[:, 0] > spam_threshold).astype(int)\n",
        "print(f\"Prediction for input mail: {final_prediction[0]}\")  # 0 for spam, 1 for ham\n"
      ]
    }
  ]
}